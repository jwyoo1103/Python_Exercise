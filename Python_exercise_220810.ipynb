{
 "cells": [
  {
   "cell_type": "markdown",
   "metadata": {},
   "source": [
    "# Python 예제 풀이 연습\n",
    "## 2022-08-10\n",
    "### 코딩도장 \"https://codingdojang.com/\" 사이트의 예제를 \"인기순\"으로 나열하여 문제 풀이 진행함.\n"
   ]
  },
  {
   "cell_type": "code",
   "execution_count": 15,
   "metadata": {},
   "outputs": [
    {
     "data": {
      "text/plain": [
       "233168"
      ]
     },
     "execution_count": 15,
     "metadata": {},
     "output_type": "execute_result"
    }
   ],
   "source": [
    "# 1. 10미만의 자연수에서 3과 5의 배수를 구하면 3,5,6,9이다. 이들의 총합은 23이다.\n",
    "#    1000미만의 자연수에서 3,5의 배수의 총합을 구하라.\n",
    "\n",
    "# Accumulation pattern 을 활용\n",
    "total = 0\n",
    "for num in range(1000):\n",
    "    if num % 3 == 0 or num % 5 == 0:\n",
    "        total += num\n",
    "\n",
    "# Accumulation pattern 을 list comprehension 과 sum 으로 표현\n",
    "sum([num for num in range(1000) if num % 3 == 0 or num % 5 == 0])\n"
   ]
  },
  {
   "cell_type": "code",
   "execution_count": 37,
   "metadata": {},
   "outputs": [
    {
     "data": {
      "text/plain": [
       "1227365"
      ]
     },
     "execution_count": 37,
     "metadata": {},
     "output_type": "execute_result"
    }
   ],
   "source": [
    "# 2. 어떤 자연수 n이 있을 때, d(n)을 n의 각 자릿수 숫자들과 n 자신을 더한 숫자라고 정의하자.\n",
    "# 예를 들어 d(91) = 9 + 1 + 91 = 101 이 때, n을 d(n)의 제네레이터(generator)라고 한다. 위의 예에서 91은 101의 제네레이터이다.\n",
    "# 어떤 숫자들은 하나 이상의 제네레이터를 가지고 있는데, 101의 제네레이터는 91 뿐 아니라 100도 있다. 그런데 반대로, 제네레이터가 없는 숫자들도 있으며,\n",
    "# 이런 숫자를 인도의 수학자 Kaprekar가 셀프 넘버(self-number)라 이름 붙였다. 예를 들어 1,3,5,7,9,20,31 은 셀프 넘버 들이다.\n",
    "# 1 이상이고 5000 보다 작은 모든 셀프 넘버들의 합을 구하라.\n",
    "\n",
    "def generator(num):\n",
    "    tot = 0\n",
    "    for n in str(num):\n",
    "        tot += int(n)\n",
    "    tot += int(num)\n",
    "    return tot\n",
    "\n",
    "# gen = []\n",
    "# for num in range(1, 5000):\n",
    "#     gen.append(generator(num))\n",
    "\n",
    "gen = [generator(num) for num in range(1, 5000)] # 위 식을 list comprehension 으로 표현\n",
    "\n",
    "# self_tot = 0\n",
    "# for num in range(1, 5000):\n",
    "#     if num not in gen:\n",
    "#         self_tot += num\n",
    "\n",
    "self_tot = sum([num for num in range(1, 5000) if num not in gen]) # 위 식을 list comprehension 으로 표현  \n",
    "\n",
    "    "
   ]
  },
  {
   "cell_type": "code",
   "execution_count": 40,
   "metadata": {},
   "outputs": [
    {
     "data": {
      "text/plain": [
       "5"
      ]
     },
     "execution_count": 40,
     "metadata": {},
     "output_type": "execute_result"
    }
   ],
   "source": [
    "# A씨는 게시판 프로그램을 작성하고 있다.\n",
    "# A씨는 게시물의 총 건수와 한 페이지에 보여줄 게시물수를 입력으로 주었을 때 총 페이지수를 리턴하는 프로그램이 필요하다고 한다.\n",
    "\n",
    "# 입력 : 총건수(m), 한페이지에 보여줄 게시물수(n) (단 n은 1보다 크거나 같다. n >= 1)\n",
    "# 출력 : 총페이지수\n",
    "\n",
    "# A씨가 필요한 프로그램을 작성하시오.\n",
    "\n",
    "def page_boader(m, n):\n",
    "    if m % n != 0:\n",
    "        page_num = m // n + 1\n",
    "    else:\n",
    "        page_num = m // n\n",
    "    return page_num\n"
   ]
  },
  {
   "cell_type": "code",
   "execution_count": 51,
   "metadata": {},
   "outputs": [
    {
     "data": {
      "text/plain": [
       "4000"
      ]
     },
     "execution_count": 51,
     "metadata": {},
     "output_type": "execute_result"
    }
   ],
   "source": [
    "# 1부터 10,000까지 8이라는 숫자가 총 몇번 나오는가?\n",
    "\n",
    "# 8이 포함되어 있는 숫자의 갯수를 카운팅 하는 것이 아니라 8이라는 숫자를 모두 카운팅 해야 한다.\n",
    "# (※ 예를들어 8808은 3, 8888은 4로 카운팅 해야 함)\n",
    "\n",
    "cnt = 0\n",
    "for num in range(1, 10001):\n",
    "    for char in str(num):\n",
    "        if char == '8':\n",
    "            cnt += 1\n",
    "        "
   ]
  },
  {
   "cell_type": "code",
   "execution_count": 60,
   "metadata": {},
   "outputs": [
    {
     "data": {
      "text/plain": [
       "{'1': 301,\n",
       " '2': 300,\n",
       " '3': 300,\n",
       " '4': 300,\n",
       " '5': 300,\n",
       " '6': 300,\n",
       " '7': 300,\n",
       " '8': 300,\n",
       " '9': 300,\n",
       " '0': 192}"
      ]
     },
     "execution_count": 60,
     "metadata": {},
     "output_type": "execute_result"
    }
   ],
   "source": [
    "# 1~1000에서 각 숫자의 개수 구하기\n",
    "\n",
    "# 예로 10 ~ 15 까지의 각 숫자의 개수를 구해보자\n",
    "\n",
    "# 10 = 1, 0\n",
    "# 11 = 1, 1\n",
    "# 12 = 1, 2\n",
    "# 13 = 1, 3\n",
    "# 14 = 1, 4\n",
    "# 15 = 1, 5\n",
    "\n",
    "# 그러므로 이 경우의 답은 0:1개, 1:7개, 2:1개, 3:1개, 4:1개, 5:1개\n",
    "\n",
    "# dic = {}\n",
    "# for num in range(1, 1001):\n",
    "#     for char in str(num):\n",
    "#         if char not in dic:\n",
    "#             dic[char] = 1\n",
    "#         else:\n",
    "#             dic[char] += 1\n",
    "\n",
    "dic = {}\n",
    "for num in range(1, 1001):\n",
    "    for char in str(num):\n",
    "        dic[char] = dic.get(char, 0) + 1\n",
    "   "
   ]
  }
 ],
 "metadata": {
  "kernelspec": {
   "display_name": "Python 3.9.12 ('DL')",
   "language": "python",
   "name": "python3"
  },
  "language_info": {
   "codemirror_mode": {
    "name": "ipython",
    "version": 3
   },
   "file_extension": ".py",
   "mimetype": "text/x-python",
   "name": "python",
   "nbconvert_exporter": "python",
   "pygments_lexer": "ipython3",
   "version": "3.9.12"
  },
  "orig_nbformat": 4,
  "vscode": {
   "interpreter": {
    "hash": "5146e34c39161d171b552a0a4a2d305274b818ccc2bf7192ba405bc34fafda96"
   }
  }
 },
 "nbformat": 4,
 "nbformat_minor": 2
}
