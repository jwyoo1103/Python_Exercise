{
 "cells": [
  {
   "cell_type": "markdown",
   "metadata": {},
   "source": [
    "# Python 예제 풀이 연습\n",
    "\n",
    "### 코딩도장 \"https://codingdojang.com/\" 사이트의 예제를 \"인기순\"으로 나열하여 문제 풀이 진행함.\n"
   ]
  },
  {
   "cell_type": "code",
   "execution_count": 2,
   "metadata": {},
   "outputs": [
    {
     "data": {
      "text/plain": [
       "233168"
      ]
     },
     "execution_count": 2,
     "metadata": {},
     "output_type": "execute_result"
    }
   ],
   "source": [
    "# 1. 10미만의 자연수에서 3과 5의 배수를 구하면 3,5,6,9이다. 이들의 총합은 23이다.\n",
    "#    1000미만의 자연수에서 3,5의 배수의 총합을 구하라.\n",
    "\n",
    "# Accumulation pattern 을 활용\n",
    "total = 0\n",
    "for num in range(1000):\n",
    "    if num % 3 == 0 or num % 5 == 0:\n",
    "        total += num\n",
    "\n",
    "# Accumulation pattern 을 list comprehension 과 sum 으로 표현\n",
    "sum([num for num in range(1000) if num % 3 == 0 or num % 5 == 0])\n"
   ]
  },
  {
   "cell_type": "code",
   "execution_count": 3,
   "metadata": {},
   "outputs": [],
   "source": [
    "# 2. 어떤 자연수 n이 있을 때, d(n)을 n의 각 자릿수 숫자들과 n 자신을 더한 숫자라고 정의하자.\n",
    "# 예를 들어 d(91) = 9 + 1 + 91 = 101 이 때, n을 d(n)의 제네레이터(generator)라고 한다. 위의 예에서 91은 101의 제네레이터이다.\n",
    "# 어떤 숫자들은 하나 이상의 제네레이터를 가지고 있는데, 101의 제네레이터는 91 뿐 아니라 100도 있다. 그런데 반대로, 제네레이터가 없는 숫자들도 있으며,\n",
    "# 이런 숫자를 인도의 수학자 Kaprekar가 셀프 넘버(self-number)라 이름 붙였다. 예를 들어 1,3,5,7,9,20,31 은 셀프 넘버 들이다.\n",
    "# 1 이상이고 5000 보다 작은 모든 셀프 넘버들의 합을 구하라.\n",
    "\n",
    "def generator(num):\n",
    "    tot = 0\n",
    "    for n in str(num):\n",
    "        tot += int(n)\n",
    "    tot += int(num)\n",
    "    return tot\n",
    "\n",
    "# gen = []\n",
    "# for num in range(1, 5000):\n",
    "#     gen.append(generator(num))\n",
    "\n",
    "gen = [generator(num) for num in range(1, 5000)] # 위 식을 list comprehension 으로 표현\n",
    "\n",
    "# self_tot = 0\n",
    "# for num in range(1, 5000):\n",
    "#     if num not in gen:\n",
    "#         self_tot += num\n",
    "\n",
    "self_tot = sum([num for num in range(1, 5000) if num not in gen]) # 위 식을 list comprehension 으로 표현  \n",
    "\n",
    "    "
   ]
  },
  {
   "cell_type": "code",
   "execution_count": 4,
   "metadata": {},
   "outputs": [],
   "source": [
    "# 3. A씨는 게시판 프로그램을 작성하고 있다.\n",
    "# A씨는 게시물의 총 건수와 한 페이지에 보여줄 게시물수를 입력으로 주었을 때 총 페이지수를 리턴하는 프로그램이 필요하다고 한다.\n",
    "\n",
    "# 입력 : 총건수(m), 한페이지에 보여줄 게시물수(n) (단 n은 1보다 크거나 같다. n >= 1)\n",
    "# 출력 : 총페이지수\n",
    "\n",
    "# A씨가 필요한 프로그램을 작성하시오.\n",
    "\n",
    "def page_boader(m, n):\n",
    "    if m % n != 0:\n",
    "        page_num = m // n + 1\n",
    "    else:\n",
    "        page_num = m // n\n",
    "    return page_num\n"
   ]
  },
  {
   "cell_type": "code",
   "execution_count": 5,
   "metadata": {},
   "outputs": [],
   "source": [
    "# 4. 1부터 10,000까지 8이라는 숫자가 총 몇번 나오는가?\n",
    "\n",
    "# 8이 포함되어 있는 숫자의 갯수를 카운팅 하는 것이 아니라 8이라는 숫자를 모두 카운팅 해야 한다.\n",
    "# (※ 예를들어 8808은 3, 8888은 4로 카운팅 해야 함)\n",
    "\n",
    "cnt = 0\n",
    "for num in range(1, 10001):\n",
    "    for char in str(num):\n",
    "        if char == '8':\n",
    "            cnt += 1\n",
    "        "
   ]
  },
  {
   "cell_type": "code",
   "execution_count": 6,
   "metadata": {},
   "outputs": [],
   "source": [
    "# 5. 1~1000에서 각 숫자의 개수 구하기\n",
    "\n",
    "# 예로 10 ~ 15 까지의 각 숫자의 개수를 구해보자\n",
    "\n",
    "# 10 = 1, 0\n",
    "# 11 = 1, 1\n",
    "# 12 = 1, 2\n",
    "# 13 = 1, 3\n",
    "# 14 = 1, 4\n",
    "# 15 = 1, 5\n",
    "\n",
    "# 그러므로 이 경우의 답은 0:1개, 1:7개, 2:1개, 3:1개, 4:1개, 5:1개\n",
    "\n",
    "# dic = {}\n",
    "# for num in range(1, 1001):\n",
    "#     for char in str(num):\n",
    "#         if char not in dic:\n",
    "#             dic[char] = 1\n",
    "#         else:\n",
    "#             dic[char] += 1\n",
    "\n",
    "dic = {}\n",
    "for num in range(1, 1001):\n",
    "    for char in str(num):\n",
    "        dic[char] = dic.get(char, 0) + 1\n",
    "   "
   ]
  },
  {
   "cell_type": "code",
   "execution_count": 67,
   "metadata": {},
   "outputs": [
    {
     "name": "stdout",
     "output_type": "stream",
     "text": [
      "[(1, 2), (4, 5)]\n",
      "(1, 2)\n"
     ]
    }
   ],
   "source": [
    "# 6. 1차원의 점들이 주어졌을 때, 그 중 가장 거리가 짧은 것의 쌍을 출력하는 함수를 작성하시오. (단 점들의 배열은 모두 정렬되어있다고 가정한다.)\n",
    "# 예를들어 S={1, 3, 4, 8, 13, 17, 20} 이 주어졌다면, 결과값은 (3, 4)가 될 것이다.\n",
    "\n",
    "# S = [1, 3, 4, 8, 13, 17, 20]\n",
    "S = [1, 2, 4, 5, 8, 15, 19]\n",
    "\n",
    "def pair(lst):\n",
    "    dict = {}\n",
    "    for x, y in list(zip(lst[:], lst[1:])):\n",
    "        if not dict.get(y-x):       # dict 의 key 값이 y-x 가 아니라면\n",
    "            dict[y-x] = [(x, y)]    # y-x 라는 key 값을 가지고 (x, y) 리스트를 value 로 가지는 dict 를 만들어라\n",
    "        else:\n",
    "            dict[y-x] = dict[y-x] + [(x, y)]  # 만약 y-x key 가 있다면, (x, y) 를 value 리스트에 더하라.\n",
    "    return dict[min(dict.keys())]  # dict 의 key (y-x) 값이 최소가 되는 value 값을 프린트 하라.\n",
    "print(pair(S))\n",
    "\n",
    "# 아래 코드는 최소값이 같은 경우를 반영하지 못함.\n",
    "\n",
    "def pair_2(lst):\n",
    "    dict ={}\n",
    "    for x, y in list(zip(lst[:], lst[1:])):\n",
    "        if (x, y) not in dict:\n",
    "            dict[(x, y)] = dict.get((x, y), y-x)\n",
    "            \n",
    "    keys = list(dict.keys())\n",
    "    min_value = keys[0]\n",
    "\n",
    "    for key in list(dict.keys()):\n",
    "        if dict[min_value] > dict[key]:\n",
    "            min_value = key\n",
    "    return min_value\n",
    "print(pair_2(S))   \n",
    "    \n",
    "        "
   ]
  },
  {
   "cell_type": "code",
   "execution_count": 64,
   "metadata": {},
   "outputs": [
    {
     "data": {
      "text/plain": [
       "[-1, -2, 1, 3, 2]"
      ]
     },
     "execution_count": 64,
     "metadata": {},
     "output_type": "execute_result"
    }
   ],
   "source": [
    "# 7. n개의 정수를 가진 배열이 있다. 이 배열은 양의정수와 음의 정수를 모두 가지고 있다. 이제 당신은 이 배열을 좀 특별한 방법으로 정렬해야 한다.\n",
    "# 정렬이 되고 난 후, 음의 정수는 앞쪽에 양의정수는 뒷쪽에 있어야 한다. 또한 양의정수와 음의정수의 순서에는 변함이 없어야 한다.\n",
    "# 예. -1 1 3 -2 2 ans: -1 -2 1 3 2.\n",
    "\n",
    "lst = [-1, 1, 3, -2, 2]\n",
    "def arrange(lst):\n",
    "    pos = []\n",
    "    neg = []\n",
    "    for num in lst:\n",
    "        if num < 0:\n",
    "            neg.append(num)\n",
    "        elif num > 0:\n",
    "            pos.append(num)\n",
    "    ans = neg + pos\n",
    "    return ans\n",
    "print(arrange(lst))\n",
    "\n",
    "def arrange_2(lst):\n",
    "    return [num for num in lst if num < 0] + [num for num in lst if num > 0]\n",
    "print(arrange_2(lst))"
   ]
  },
  {
   "cell_type": "code",
   "execution_count": 79,
   "metadata": {},
   "outputs": [
    {
     "name": "stdout",
     "output_type": "stream",
     "text": [
      "(2, 6)\n",
      "3\n",
      "이유덕,이재영,권종표,박민호,강상희,김지완,최승혁,이성연,박영서,전경헌,송정환,김재성\n",
      "강상희,권종표,김재성,김지완,박민호,박영서,송정환,이성연,이유덕,이재영,전경헌,최승혁\n"
     ]
    }
   ],
   "source": [
    "# 8. 주어진 문자열(공백 없이 쉼표로 구분되어 있음)을 가지고 아래 문제에 대한 프로그램을 작성하세요.\n",
    "\n",
    "# 이유덕,이재영,권종표,이재영,박민호,강상희,이재영,김지완,최승혁,이성연,박영서,박민호,전경헌,송정환,김재성,이유덕,전경헌\n",
    "\n",
    "names = \"이유덕,이재영,권종표,이재영,박민호,강상희,이재영,김지완,최승혁,이성연,박영서,박민호,전경헌,송정환,김재성,이유덕,전경헌\"\n",
    "names = names.split(\",\")\n",
    "\n",
    " # 김씨와 이씨는 각각 몇 명 인가요?\n",
    "def count_kim_lee(lst):\n",
    "    cnt_kim = 0\n",
    "    cnt_lee = 0\n",
    "    for name in lst:\n",
    "        if name[0] == '김':\n",
    "            cnt_kim += 1\n",
    "        elif name[0] == '이':\n",
    "            cnt_lee += 1\n",
    "    return cnt_kim, cnt_lee\n",
    "print(count_kim_lee(names))\n",
    "\n",
    "# \"이재영\"이란 이름이 몇 번 반복되나요?\n",
    "def rep_name(lst, persnal_name):\n",
    "    name_dict = {} \n",
    "    for name in lst:\n",
    "        name_dict[name] = name_dict.get(name, 0) + 1\n",
    "    return name_dict[persnal_name]\n",
    "print(rep_name(names, '이재영'))\n",
    "\n",
    "# 중복을 제거한 이름을 출력하세요.\n",
    "def rm_rep_name(lst):\n",
    "    name_dict = {}\n",
    "    for name in lst:\n",
    "        name_dict[name] = name_dict.get(name, 0) + 1\n",
    "    new_names = ','.join(name_dict.keys())\n",
    "    return new_names\n",
    "print(rm_rep_name(names))\n",
    "    \n",
    "# 중복을 제거한 이름을 오름차순으로 정렬하여 출력하세요.\n",
    "def sorted_name(lst):\n",
    "    new_names = rm_rep_name(lst).split(',')\n",
    "    sorted_names = ','.join(sorted(new_names))\n",
    "    return sorted_names\n",
    "print(sorted_name(names))"
   ]
  }
 ],
 "metadata": {
  "kernelspec": {
   "display_name": "Python 3.9.12 ('DL')",
   "language": "python",
   "name": "python3"
  },
  "language_info": {
   "codemirror_mode": {
    "name": "ipython",
    "version": 3
   },
   "file_extension": ".py",
   "mimetype": "text/x-python",
   "name": "python",
   "nbconvert_exporter": "python",
   "pygments_lexer": "ipython3",
   "version": "3.9.12"
  },
  "orig_nbformat": 4,
  "vscode": {
   "interpreter": {
    "hash": "5146e34c39161d171b552a0a4a2d305274b818ccc2bf7192ba405bc34fafda96"
   }
  }
 },
 "nbformat": 4,
 "nbformat_minor": 2
}
